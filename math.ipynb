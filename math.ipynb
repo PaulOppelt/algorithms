{
 "cells": [
  {
   "cell_type": "markdown",
   "metadata": {},
   "source": [
    "**Expectation Maximization** <br>\n",
    "\n",
    "We want to maximize the parameters $\\theta$ that maximize the log likelihood given some observed data $x$.\n",
    "\n",
    "\\begin{align}\n",
    "\\argmax_{\\theta} \\mathrm{l}(\\theta)=\\argmax_{\\theta} \\log p(x\\mid\\theta)\n",
    "\\end{align}\n",
    "\n",
    "if the full data however is given by $(z,x)$ and $z$ is a hidden probabilistic variable that follows a distribution $p(z)$ which we seek to find we can write:\n",
    "\n",
    "\\begin{align}\n",
    "\\log p(x\\mid\\theta)=\\log \\sum_{z\\in Z} p(x,z\\mid\\theta)\n",
    "\\end{align}\n",
    "\n",
    "Optimizing this expression is diffficuls due to the order of the summation and the logarithm. For such a scenario an analytic solution is not feasible and we have to resort to a technique called expectation maximization. We can introduce an arbitrary probability density $q(z)$ over the hidden variable and use Jensen's inqeuality to get:\n",
    "\n",
    "\\begin{align}\n",
    "\\log p(x\\mid\\theta) &= \\log \\sum_{z\\in Z} p(x,z\\mid\\theta) \\\\\n",
    "&= \\log \\sum_{z\\in Z} q(z) \\frac{p(x,z\\mid\\theta)}{q(z)} \\\\\n",
    "&= \\log \\mathrm{E}_{z \\sim q(z)}  \\left[ \\frac{p(x,z\\mid\\theta)}{q(z)} \\right] \\\\\n",
    "&\\underset{\\mathrm{Jensen's}}{\\geq} \\mathrm{E}_{z \\sim q(z)}  \\left[ \\log \\frac{p(x,z\\mid\\theta)}{q(z)} \\right] \\\\\n",
    "&=\\underbrace{\\mathrm{E}_{z \\sim q(z)}  \\log p(x,z\\mid\\theta)}_{\\equiv Q(\\theta)} -  \\mathrm{E}_{z \\sim q(z)} \\log q(z) \\\\\n",
    "&\\equiv \\mathrm{ELBO}\n",
    "\\end{align}\n",
    "\n",
    "Since $\\log q(z)$ is independent of $\\theta$ we can optimize the the log-likelihood by optimizing the lower bound $Q(\\theta)$. In order to optimize the lower bound we need to compute the expectation using the distribution $q(z)$ which is unknwon. However by rearraing the expression for the $\\mathrm{ELBO}$ we find:\n",
    "\n",
    "\\begin{align}\n",
    "\\mathrm{ELBO} &=\\mathrm{E}_{z \\sim q(z)}  \\left[ \\log \\frac{p(x,z\\mid\\theta)}{q(z)} \\right] \\\\\n",
    "&=\\mathrm{E}_{z \\sim q(z)}  \\left[ \\log \\frac{p(x,z\\mid\\theta)p(z\\mid x,\\theta)}{q(z)p(z\\mid x,\\theta)} \\right] \\\\\n",
    "&=\\mathrm{E}_{z \\sim q(z)}  \\left[ \\log \\frac{p(x\\mid\\theta)p(z\\mid x,\\theta) p(z\\mid x,\\theta)}{q(z)p(z\\mid x,\\theta)} \\right] \\\\\n",
    "&=\\mathrm{E}_{z \\sim q(z)}  \\left[ \\log \\frac{p(x\\mid\\theta) p(z\\mid x,\\theta)}{q(z)} \\right] \\\\\n",
    "&= \\log p(x\\mid\\theta) - \\mathrm{KL}(q(z) \\mid\\mid p(z\\mid x,\\theta))\n",
    "\\end{align}\n",
    "In the last step we used that $\\log p(x\\mid\\theta)$ is independent of $z$. We can now see that the optimal $q(z)$ is given by $p(z\\mid x,\\theta)$ since in this case the Kullback-Leibler Divergence is minimized and therefore the $\\mathrm{ELBO}$ maximized. <br>\n",
    "We now have two objectives: (1) optimizing the lower bound $Q(\\theta)$. (2) choosing $q(z)=p(z\\mid x,\\theta)$. The expectation maximization algorithm works by repeating those two steps until convergence:\n",
    "* E-Step: compute $p(z\\mid x,\\theta)$ in order to obtain $q(z)$.\n",
    "* M-Step: update $\\theta$ <- $\\argmax_{\\theta} Q(\\theta)$. <br>\n",
    "\n",
    "The initial $\\theta$ can be picked at random.\n",
    "\n",
    "***Example: Gaussian Mixture Model (GMM)*** <br>\n",
    "\n",
    "In the GMM the probabilty of observing event $X_i=x$ is given by a mixture of $k=1,...,n$ gaussian distributions $P(X_i=x\\mid Z_i=k)$ that are weighted by a factor $\\pi_i$ describing the probability that $x_i$ was drawn from i'th mixture component. \n",
    "\n",
    "\\begin{align}\n",
    "P(X_i=x)=\\sum_{k=1}^{n} \\pi_{k}P(X_i=x\\mid Z_i=k) \\quad \\mathrm{with} \\quad \\sum_i \\pi_i =1\n",
    "\\end{align}\n",
    "\n",
    "Since we are dealing with Gaussian Distributions, $P(X_i=x\\mid Z_i=k)=N(\\sigma^{2}_{k}, \\mu_k)$. The log-Likelihood is given by:\n",
    "\n",
    "\\begin{align}\n",
    "l(\\theta)&=\\log \\prod_{i=1}^n\\sum_{k=1}^{n} \\pi_{k}N(\\sigma^{2}_{k}, \\mu_k) \\\\\n",
    "&= \\sum_{i=1}^n \\log \\sum_{k=1}^{n} \\pi_{k}N(\\sigma^{2}_{k}, \\mu_k)\n",
    "\\end{align}\n",
    "\n",
    "If we knew from which of the Gaussian a given datapoint was sampled we could go ahead a find a analytic solution to this problem since it would simplify to a MLE of a single Gaussian Distribution with $\\pi_i=1/N_i$ with $N_i$ being the number of samples from the i'th Gaussian. In order to find the solution to the Problem we can apply EM:\n",
    "\n",
    "* E-step: Compute the posterior probability of the "
   ]
  },
  {
   "cell_type": "markdown",
   "metadata": {},
   "source": []
  }
 ],
 "metadata": {
  "kernelspec": {
   "display_name": "base",
   "language": "python",
   "name": "python3"
  },
  "language_info": {
   "codemirror_mode": {
    "name": "ipython",
    "version": 3
   },
   "file_extension": ".py",
   "mimetype": "text/x-python",
   "name": "python",
   "nbconvert_exporter": "python",
   "pygments_lexer": "ipython3",
   "version": "3.9.15"
  }
 },
 "nbformat": 4,
 "nbformat_minor": 2
}
